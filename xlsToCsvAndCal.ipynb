{
 "cells": [
  {
   "cell_type": "code",
   "execution_count": 1,
   "metadata": {
    "collapsed": true
   },
   "outputs": [],
   "source": [
    "import numpy as np\n",
    "import matplotlib.pyplot as plt\n",
    "import pandas as pd\n",
    "import openpyxl\n",
    "import os\n",
    "\n",
    "#Variables initialisation\n",
    "\n",
    "src = 'data23.11'\n",
    "out = src+'result'\n",
    "table_name = 'data23.11/table.xlsx'\n",
    "list_name = 'Лист1'\n",
    "outtable_name = f\"{out}/result_table.xlsx\"\n",
    "plot = True\n",
    "\n",
    "out_table_column_width = 7\n",
    "\n",
    "if not os.path.exists(out):\n",
    "    os.makedirs(out)"
   ]
  },
  {
   "cell_type": "code",
   "execution_count": 2,
   "outputs": [],
   "source": [
    "wb = openpyxl.load_workbook(filename = table_name)\n",
    "sheet = wb[list_name]\n",
    "if os.path.exists(outtable_name):\n",
    "    outwb = openpyxl.load_workbook(filename=outtable_name)\n",
    "    outsheet = outwb['лист 1']\n",
    "else:\n",
    "    outwb = openpyxl.Workbook()\n",
    "    outsheet = outwb.create_sheet('лист 1')"
   ],
   "metadata": {
    "collapsed": false,
    "pycharm": {
     "name": "#%%\n"
    }
   }
  },
  {
   "cell_type": "code",
   "execution_count": 2,
   "outputs": [],
   "source": [],
   "metadata": {
    "collapsed": false,
    "pycharm": {
     "name": "#%%\n"
    }
   }
  },
  {
   "cell_type": "code",
   "execution_count": 3,
   "outputs": [],
   "source": [
    "# рассчет сдвигов двумя способами\n",
    "index = 0\n",
    "i = 0\n",
    "while i < 70:\n",
    "    i+=1\n",
    "    if sheet.cell(row=1, column=i).value == None:\n",
    "        continue\n",
    "\n",
    "    # основной код обработки столбика из таблицы\n",
    "    row_s = 3\n",
    "    row_end = row_s\n",
    "    while sheet.cell(row=row_end, column=i).value is not None:\n",
    "        row_end+=1\n",
    "    # копируем исходные данные\n",
    "    for t in range(2):\n",
    "        for j in range(3, row_end):\n",
    "            if type(sheet.cell(row=j, column=i+t).value) == str:\n",
    "                outsheet.cell(row=j, column=1+index*out_table_column_width+t).value = (str(sheet.cell(row=j, column=i+t).value).strip())\n",
    "            else:\n",
    "                outsheet.cell(row=j, column=1+index*out_table_column_width+t).value = sheet.cell(row=j, column=i+t).value\n",
    "        for j in range(1, 3):\n",
    "            outsheet.cell(row=j, column=1+index*out_table_column_width+t).value = sheet.cell(row=j, column=i+t).value\n",
    "\n",
    "\n",
    "    table = pd.DataFrame({\n",
    "        'сила, кН':\n",
    "          [i for i, in sheet.iter_rows(min_row=row_s, max_row=row_end-1, min_col=i, max_col=i,  values_only=True)],\n",
    "        'file_name':\n",
    "          ['WFM' + (str(i) if len(str(i)) > 1 else '0'+str(i))+'.csv' for i, in\n",
    "               sheet.iter_rows(min_row=row_s, max_row=row_end-1, min_col=i+1, max_col=i+1,  values_only=True)]\n",
    "    })\n",
    "\n",
    "    deltasFFT = [0]\n",
    "    deltasCorr = [0]\n",
    "    base = np.loadtxt(os.path.join(src, table['file_name'][0]), skiprows=1, delimiter=',')\n",
    "    base[:, 1] -= base[:, 1].mean()\n",
    "    baseFFT = np.fft.rfft(base[:, 1])\n",
    "    maxk = np.abs(baseFFT).argmax()\n",
    "    if not os.path.exists(os.path.join(out, str(index))):\n",
    "        os.makedirs(os.path.join(out, str(index)))\n",
    "    for secondI in range(1, len(table['file_name'])):\n",
    "        shifted = np.loadtxt(os.path.join(src, table['file_name'].iloc[secondI]), skiprows=1, delimiter=',')\n",
    "        shifted[:, 1] -= shifted[:, 1].mean()\n",
    "        shFFT = np.fft.rfft(shifted[:, 1])\n",
    "        if plot:\n",
    "            plt.plot(base[:, 1])\n",
    "            plt.plot(shifted[:, 1])\n",
    "            plt.savefig(os.path.join(out, str(index), f'shifting{index}_{secondI}.png'), dpi=300)\n",
    "            plt.close()\n",
    "\n",
    "        # plt.plot(np.fft.rfftfreq(len(base))[:20], np.abs(baseFFT)[:20])\n",
    "        # plt.plot(np.fft.rfftfreq(len(shifted))[:20], np.abs(shFFT)[:20])\n",
    "        # plt.savefig(os.path.join(out, str(index), f'FFTampl{index}_{secondI}.png'), dpi=300)\n",
    "        # plt.close()\n",
    "        # plt.plot(np.fft.rfftfreq(len(base))[:20], np.angle(baseFFT)[:20])\n",
    "        # plt.plot(np.fft.rfftfreq(len(shifted))[:20], np.angle(shFFT)[:20])\n",
    "        # plt.savefig(os.path.join(out, str(index), f'FFTphase{index}_{secondI}.png'), dpi=300)\n",
    "        # plt.close()\n",
    "\n",
    "        delta = ((np.angle(shFFT[maxk]) - np.angle(baseFFT[maxk]) + np.pi)%(2*np.pi)-np.pi) * len(base) / maxk / 2 / np.pi\n",
    "        deltasFFT.append(delta)\n",
    "        corr = np.correlate(base[:, 1], shifted[:, 1], mode='full')\n",
    "        deltasCorr.append(corr.argmax()-len(base))\n",
    "        if plot:\n",
    "            plt.plot(np.arange(-1000, 1000), corr[len(base)-1000:len(base)+1000])\n",
    "            plt.savefig(os.path.join(out, str(index), f'corr{index}_{secondI}.png'), dpi=300)\n",
    "            plt.close()\n",
    "\n",
    "    outsheet.cell(row = row_s-1, column=3+index*out_table_column_width).value = 'FFT сдвиг'\n",
    "    j = 0\n",
    "    for cell, in outsheet.iter_rows(min_row=row_s, max_row=row_end-1, min_col=3+index*out_table_column_width, max_col=3+index*out_table_column_width):\n",
    "        cell.value = deltasFFT[j]\n",
    "        j +=1\n",
    "    outsheet.cell(row = row_s-1, column=4+index*out_table_column_width).value = 'Corr сдвиг'\n",
    "    j = 0\n",
    "    for cell, in outsheet.iter_rows(min_row=row_s, max_row=row_end-1, min_col=4+index*out_table_column_width, max_col=4+index*out_table_column_width):\n",
    "        cell.value = deltasCorr[j]\n",
    "        j +=1\n",
    "\n",
    "\n",
    "    index += 1\n",
    "    i+=2\n",
    "\n",
    "\n"
   ],
   "metadata": {
    "collapsed": false,
    "pycharm": {
     "name": "#%%\n"
    }
   }
  },
  {
   "cell_type": "code",
   "execution_count": 4,
   "outputs": [
    {
     "data": {
      "text/plain": "'FFT сдвиг'"
     },
     "execution_count": 4,
     "metadata": {},
     "output_type": "execute_result"
    }
   ],
   "source": [
    "outsheet.cell(row=2, column=3).value\n",
    "# wb.save(f\"{out}/shifts3.xlsx\")"
   ],
   "metadata": {
    "collapsed": false,
    "pycharm": {
     "name": "#%%\n"
    }
   }
  },
  {
   "cell_type": "code",
   "execution_count": 5,
   "outputs": [],
   "source": [
    "outwb.save(outtable_name)"
   ],
   "metadata": {
    "collapsed": false,
    "pycharm": {
     "name": "#%%\n"
    }
   }
  },
  {
   "cell_type": "code",
   "execution_count": 6,
   "outputs": [
    {
     "ename": "IndentationError",
     "evalue": "expected an indented block (<ipython-input-6-a0a4d9c53d0e>, line 5)",
     "output_type": "error",
     "traceback": [
      "\u001B[1;36m  File \u001B[1;32m\"<ipython-input-6-a0a4d9c53d0e>\"\u001B[1;36m, line \u001B[1;32m5\u001B[0m\n\u001B[1;33m    i+=1\u001B[0m\n\u001B[1;37m    ^\u001B[0m\n\u001B[1;31mIndentationError\u001B[0m\u001B[1;31m:\u001B[0m expected an indented block\n"
     ]
    }
   ],
   "source": [
    "    # определение периода\n",
    "index = 0\n",
    "i = 0\n",
    "while i < 70:\n",
    "    i+=1\n",
    "    if sheet.cell(row=1, column=i).value == None:\n",
    "        continue\n",
    "\n",
    "    # основной код обработки столбика из таблицы\n",
    "    row_s = 3\n",
    "    row_end = row_s\n",
    "    while sheet.cell(row=row_end, column=i).value is not None:\n",
    "        row_end+=1\n",
    "\n",
    "    table = pd.DataFrame({\n",
    "        'сила, кН':\n",
    "          [i for i, in sheet.iter_rows(min_row=row_s, max_row=row_end-1, min_col=i, max_col=i,  values_only=True)],\n",
    "        'file_name':\n",
    "          ['WFM' + (str(i) if len(str(i)) > 1 else '0'+str(i))+'.csv' for i, in\n",
    "               sheet.iter_rows(min_row=row_s, max_row=row_end-1, min_col=i+1, max_col=i+1,  values_only=True)]\n",
    "    })\n",
    "\n",
    "    deltasFFT = [0]\n",
    "    deltasCorr = [0]\n",
    "    base = np.loadtxt(os.path.join(src, table['file_name'][0]), skiprows=1, delimiter=',')\n",
    "    base[:, 1] -= base[:, 1].mean()\n",
    "    baseFFT = np.fft.rfft(base[:, 1])\n",
    "    maxk = np.abs(baseFFT).argmax()\n",
    "    print(index, 1/np.fft.rfftfreq(base.shape[0])[maxk])\n",
    "\n",
    "\n",
    "    index += 1\n",
    "    i+=2\n",
    "\n",
    "\n",
    "\n",
    "\n"
   ],
   "metadata": {
    "collapsed": false,
    "pycharm": {
     "name": "#%%\n"
    }
   }
  }
 ],
 "metadata": {
  "kernelspec": {
   "display_name": "Python 3",
   "language": "python",
   "name": "python3"
  },
  "language_info": {
   "codemirror_mode": {
    "name": "ipython",
    "version": 2
   },
   "file_extension": ".py",
   "mimetype": "text/x-python",
   "name": "python",
   "nbconvert_exporter": "python",
   "pygments_lexer": "ipython2",
   "version": "2.7.6"
  }
 },
 "nbformat": 4,
 "nbformat_minor": 0
}