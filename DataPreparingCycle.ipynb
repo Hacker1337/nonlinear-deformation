{
 "cells": [
  {
   "cell_type": "code",
   "execution_count": 58,
   "metadata": {},
   "outputs": [],
   "source": [
    "import numpy as np\n",
    "import matplotlib.pyplot as plt\n",
    "import pandas as pd\n",
    "import openpyxl\n",
    "import os\n",
    "\n",
    "#Variables initialisation\n",
    "\n",
    "src = 'данные SiO2 на нескольких частотах'\n",
    "out = 'result'\n",
    "table_name = 'данные SiO2 на нескольких частотах/ps+20% SiO2.xlsx'\n",
    "list_name = 'Лист1'"
   ]
  },
  {
   "cell_type": "code",
   "execution_count": 54,
   "metadata": {
    "pycharm": {
     "name": "#%%\n"
    }
   },
   "outputs": [],
   "source": [
    "wb = openpyxl.load_workbook(filename = table_name)\n",
    "sheet = wb[list_name]"
   ]
  },
  {
   "cell_type": "code",
   "execution_count": 55,
   "metadata": {},
   "outputs": [
    {
     "data": {
      "text/plain": [
       "<Cell 'Лист1'.A1>"
      ]
     },
     "execution_count": 55,
     "metadata": {},
     "output_type": "execute_result"
    }
   ],
   "source": [
    "sheet.cell(row=1, column=1)"
   ]
  },
  {
   "cell_type": "code",
   "execution_count": 68,
   "metadata": {},
   "outputs": [],
   "source": [
    "freq_group = 0          # номер частоты, данные для которого обрабатываются (с нуля)\n",
    "\n",
    "for freq_group in range(6):\n",
    "    column_s = freq_group*4 + 1\n",
    "    freq_str = sheet.cell(row=1, column=column_s+2).value\n",
    "    if not freq_str.endswith('Мгц') :\n",
    "        print(f\"WARNING!!! Unexpected frequance format in row 1, column {column_s+2}! {freq_str} doesn't ends with 'Мгц'\")\n",
    "    freq = float((freq_str[:-3]).strip().replace(',', '.'))      # in Mhz \n",
    "    \n",
    "    dirname = os.path.join(out, freq_str)\n",
    "    if not os.path.exists(dirname):\n",
    "        os.makedirs(dirname)\n",
    "    \n",
    "    axis_name = ['z','y','x']\n",
    "    naming_row = [2, 22, 42]\n",
    "\n",
    "    for direction in [0, 1, 2]:         # условная нумерация, с определением через несколько списков\n",
    "        row_s = naming_row[direction]+1\n",
    "        row_end = row_s\n",
    "        while sheet.cell(row=row_end, column=column_s).value is not None:\n",
    "            row_end+=1\n",
    "        df = pd.DataFrame(\n",
    "                {sheet.cell(row=naming_row[direction], column=column_s).value: \n",
    "                  [i for i, in sheet.iter_rows(min_row=row_s, max_row=row_end-1, min_col=column_s, max_col=column_s,  values_only=True)], \n",
    "                 'file_name': \n",
    "                  ['WFM' + (str(i) if len(str(i)) > 1 else '0'+str(i))+'.csv' for i, in \n",
    "                       sheet.iter_rows(min_row=row_s, max_row=row_end-1, min_col=column_s+1, max_col=column_s+1,  values_only=True)]\n",
    "                }\n",
    "            )\n",
    "        df.to_csv(os.path.join(dirname, axis_name[direction]+'.csv'))"
   ]
  },
  {
   "cell_type": "code",
   "execution_count": 41,
   "metadata": {},
   "outputs": [
    {
     "data": {
      "text/plain": [
       "['PS + 20% Sio2', 'номер данных', 3, 4, 5, 6, 7, 8, 9, 10]"
      ]
     },
     "execution_count": 41,
     "metadata": {},
     "output_type": "execute_result"
    }
   ],
   "source": [
    "[i.value for i,  in sheet.iter_rows(min_row=1, max_row=10, min_col=2, max_col=2)]\n"
   ]
  }
 ],
 "metadata": {
  "kernelspec": {
   "display_name": "Python 3",
   "language": "python",
   "name": "python3"
  },
  "language_info": {
   "codemirror_mode": {
    "name": "ipython",
    "version": 3
   },
   "file_extension": ".py",
   "mimetype": "text/x-python",
   "name": "python",
   "nbconvert_exporter": "python",
   "pygments_lexer": "ipython3",
   "version": "3.8.5"
  }
 },
 "nbformat": 4,
 "nbformat_minor": 1
}
